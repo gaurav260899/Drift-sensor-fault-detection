{
 "cells": [
  {
   "cell_type": "code",
   "execution_count": null,
   "metadata": {},
   "outputs": [],
   "source": [
    "import os\n",
    "#import pylab as pl\n",
    "import numpy as np\n",
    "#import tensorflow as tf\n",
    "#import scipy.optimize as opt\n",
    "#from sklearn import preprocessing\n",
    "#from sklearn.cross_validation import train_test_split - Not used anymore thats why causes an error\n",
    "#from sklearn.model_selection import train_test_split\n",
    "%matplotlib inline\n",
    "import matplotlib.pyplot as plt\n",
    "import pandas as pd"
   ]
  },
  {
   "cell_type": "code",
   "execution_count": null,
   "metadata": {},
   "outputs": [],
   "source": [
    "training_data = pd.read_excel (r\"C:\\Users\\grg\\Desktop\\Data Acquired - Sensor\\0.01_Change_Drift_Fault_Samples\\0.01_Training_Data_First.60(F)_Last.60(N).xlsx\") #gets the data from PC\n",
    "training_data.head() #Displays data - First 60% Drift fault - Last 60% Normal Data "
   ]
  },
  {
   "cell_type": "code",
   "execution_count": null,
   "metadata": {},
   "outputs": [],
   "source": [
    "training_data.describe() #Returns the statistical summary of Numerical Data"
   ]
  },
  {
   "cell_type": "code",
   "execution_count": null,
   "metadata": {},
   "outputs": [],
   "source": [
    "training_data.plot(kind='line')\n",
    "plt.show() # First 60% Drift fault - Last 60% Normal Data - Total=120 Rows"
   ]
  },
  {
   "cell_type": "code",
   "execution_count": null,
   "metadata": {},
   "outputs": [],
   "source": [
    "ax = training_data[training_data['Label'] == 0][0:100].plot(kind='scatter', x='Max', y='Mean', color='DarkBlue', label='Faulty');\n",
    "training_data[training_data['Label'] == 1][0:100].plot(kind='scatter', x='Max', y='Mean', color='Red', label='Normal', ax=ax);\n",
    "plt.show()"
   ]
  },
  {
   "cell_type": "code",
   "execution_count": null,
   "metadata": {},
   "outputs": [],
   "source": [
    "#from sklearn.model_selection import train_test_split\n",
    "#X_train, X_test, y_train, y_test = train_test_split(X,y,test_size=0.4) #40% of data for test\n",
    "\n",
    "X_train = training_data[['Max','Mean']]\n",
    "y_train = training_data[['Label']]"
   ]
  },
  {
   "cell_type": "code",
   "execution_count": null,
   "metadata": {},
   "outputs": [],
   "source": [
    "from sklearn.svm import SVC  \n",
    "svclassifier = SVC(kernel='linear')  \n",
    "svclassifier.fit(X_train, y_train.values.ravel()) #.ravel() func. accepts values as 2D as 1D was expected by the model"
   ]
  },
  {
   "cell_type": "code",
   "execution_count": null,
   "metadata": {},
   "outputs": [],
   "source": [
    "testing_data = pd.read_excel (r\"C:\\Users\\grg\\Desktop\\Data Acquired - Sensor\\0.01_Change_Drift_Fault_Samples\\0.01_Testing_Data_First.40(F)_Last.40(N).xlsx\")\n",
    "testing_data.describe()"
   ]
  },
  {
   "cell_type": "code",
   "execution_count": null,
   "metadata": {},
   "outputs": [],
   "source": [
    "X_test = testing_data[['Max','Mean']]\n",
    "y_test = testing_data[['Label']]"
   ]
  },
  {
   "cell_type": "code",
   "execution_count": null,
   "metadata": {},
   "outputs": [],
   "source": [
    "svclassifier.predict(X_test)"
   ]
  },
  {
   "cell_type": "code",
   "execution_count": null,
   "metadata": {},
   "outputs": [],
   "source": [
    "y_pred = svclassifier.predict(X_test)"
   ]
  },
  {
   "cell_type": "code",
   "execution_count": null,
   "metadata": {},
   "outputs": [],
   "source": [
    "svclassifier.score(X_test, y_test) #Accuracy score 100%"
   ]
  },
  {
   "cell_type": "code",
   "execution_count": null,
   "metadata": {
    "scrolled": true
   },
   "outputs": [],
   "source": [
    "from sklearn.metrics import classification_report, confusion_matrix  \n",
    "print(confusion_matrix(y_test,y_pred))  \n",
    "#print(classification_report(y_test,y_pred))"
   ]
  },
  {
   "cell_type": "code",
   "execution_count": null,
   "metadata": {},
   "outputs": [],
   "source": [
    "print(classification_report(y_test,y_pred)) "
   ]
  },
  {
   "cell_type": "code",
   "execution_count": null,
   "metadata": {},
   "outputs": [],
   "source": [
    "# Now we are gonna use Pickle or Joblib API which actually helps in not training the model each time we run the program.\n",
    "import pickle\n",
    "\n",
    "with open('SVM_Trained_Code_FaultDetection_PICKLE','wb') as f: #wb=write binary\n",
    "    pickle.dump(svclassifier,f)"
   ]
  },
  {
   "cell_type": "code",
   "execution_count": null,
   "metadata": {},
   "outputs": [],
   "source": [
    "with open('SVM_Trained_Code_FaultDetection_PICKLE','rb') as f:\n",
    "    SVM_prediction = pickle.load(f)"
   ]
  },
  {
   "cell_type": "code",
   "execution_count": null,
   "metadata": {},
   "outputs": [],
   "source": [
    "SVM_prediction.predict(X_test)"
   ]
  },
  {
   "cell_type": "code",
   "execution_count": null,
   "metadata": {},
   "outputs": [],
   "source": [
    "SVM_prediction.score(X_test, y_test)#We got same accuracy asw above, but using not training.Yahooo! :D"
   ]
  },
  {
   "cell_type": "code",
   "execution_count": null,
   "metadata": {},
   "outputs": [],
   "source": [
    "#Just for testing purposes\n",
    "#[1] means Normal-Signal and [0] means Faulty-Signal\n",
    "Max = 26\n",
    "Mean = 24.9\n",
    "test = [Max,Mean]\n",
    "#print (test)\n",
    "SVM_prediction.predict([test])"
   ]
  },
  {
   "cell_type": "code",
   "execution_count": null,
   "metadata": {},
   "outputs": [],
   "source": []
  },
  {
   "cell_type": "code",
   "execution_count": null,
   "metadata": {},
   "outputs": [],
   "source": []
  }
 ],
 "metadata": {
  "kernelspec": {
   "display_name": "Python 3 (ipykernel)",
   "language": "python",
   "name": "python3"
  },
  "language_info": {
   "codemirror_mode": {
    "name": "ipython",
    "version": 3
   },
   "file_extension": ".py",
   "mimetype": "text/x-python",
   "name": "python",
   "nbconvert_exporter": "python",
   "pygments_lexer": "ipython3",
   "version": "3.7.3"
  }
 },
 "nbformat": 4,
 "nbformat_minor": 2
}
