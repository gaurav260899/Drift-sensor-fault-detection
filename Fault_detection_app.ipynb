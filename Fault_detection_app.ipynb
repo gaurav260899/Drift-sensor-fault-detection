{
 "cells": [
  {
   "cell_type": "code",
   "execution_count": null,
   "id": "6f19758b",
   "metadata": {},
   "outputs": [],
   "source": [
    "import serial\n",
    "import time\n",
    "import pickle\n",
    "import numpy\n",
    "import csv\n",
    "\n",
    "arduino = serial.Serial('com14', 9600) #Reading values from Arduino IDE code\n",
    "\n",
    "while True: #infinite loop until there is disconnectivity\n",
    "\n",
    "    readTemp = float(arduino.readline().strip().decode('utf-8')) #reading value from temp\n",
    "    \n",
    "    if readTemp ==1.0 or readTemp ==0.0:\n",
    "        print('Actual Value = ',readTemp)\n",
    "        signal = []\n",
    "        for i in range (100): #this value can be changed according to need\n",
    "            point = float(arduino.readline().strip().decode('utf-8'))\n",
    "            signal.append(point) #reading value from temp\n",
    "            #print(point) #printing all values coming from Arduino\n",
    "                  \n",
    "        Max = float(max(signal)) #For feature extraction\n",
    "        Mean = float(numpy.mean(signal)) #For feature extraction\n",
    "        \n",
    "        #Paste your Joblib or Pickle file path here of trained data\n",
    "        with open('SVM_Trained_Code_FaultDetection_PICKLE','rb') as f: #trained algorithm on PC then shifted here using sklearn Pickle because RP has low processing to do training each time\n",
    "            prediction = pickle.load(f) #0.21.2 version of sklearn needed on both training & testing systems\n",
    "\n",
    "        X_test = [Max,Mean] #extracted features storing into the list or we can say variable\n",
    "        print('Max/Mean: ', X_test) #printing the extracted features\n",
    "        predicted_value = prediction.predict([X_test]) #this line of code will be able to predict the sensor fault, because of trained model\n",
    "        print('Predicted = ',predicted_value) #Faulty-Signal [0] || Normal-Signal [1]\n",
    "\n",
    "        csvData = [readTemp, predicted_value]\n",
    "        #Paste link of csv file here for storing the results\n",
    "        with open('Results.csv','a') as f:\n",
    "            writer = csv.writer(f, delimiter=',')\n",
    "            writer.writerows([csvData])\n",
    "    else:\n",
    "        print('Wait')\n",
    "\n",
    "#time.sleep 20 ms --- END!\n",
    "    \n"
   ]
  },
  {
   "cell_type": "code",
   "execution_count": null,
   "id": "e089d608",
   "metadata": {},
   "outputs": [],
   "source": []
  },
  {
   "cell_type": "code",
   "execution_count": null,
   "id": "5a0dcefe",
   "metadata": {},
   "outputs": [],
   "source": []
  }
 ],
 "metadata": {
  "kernelspec": {
   "display_name": "Python 3 (ipykernel)",
   "language": "python",
   "name": "python3"
  },
  "language_info": {
   "codemirror_mode": {
    "name": "ipython",
    "version": 3
   },
   "file_extension": ".py",
   "mimetype": "text/x-python",
   "name": "python",
   "nbconvert_exporter": "python",
   "pygments_lexer": "ipython3",
   "version": "3.7.3"
  }
 },
 "nbformat": 4,
 "nbformat_minor": 5
}
